{
 "cells": [
  {
   "cell_type": "code",
   "execution_count": 1,
   "id": "3c1134e6-d23e-43f6-931b-e6d4b57d09d2",
   "metadata": {},
   "outputs": [],
   "source": [
    "import pandas as pd\n",
    "import numpy as np\n"
   ]
  },
  {
   "cell_type": "code",
   "execution_count": 2,
   "id": "118f4d1f-faf7-4faf-9599-e3f242274c33",
   "metadata": {},
   "outputs": [],
   "source": [
    "df=pd.read_csv(\"nasa_battery_master.csv\")"
   ]
  },
  {
   "cell_type": "code",
   "execution_count": 3,
   "id": "35aaf8ae-5f6c-4125-bba2-7946f45dd724",
   "metadata": {},
   "outputs": [],
   "source": [
    "numeric_cols = [\n",
    "    'voltage_measured', 'current_measured', 'temperature_measured',\n",
    "    'current_load', 'voltage_load', 'time',\n",
    "    'sense_current', 'battery_current', 'current_ratio',\n",
    "    'current_charge', 'voltage_charge'\n",
    "]"
   ]
  },
  {
   "cell_type": "code",
   "execution_count": 4,
   "id": "4d4a5a67-e448-4e2e-b750-dac0d90c5cd2",
   "metadata": {},
   "outputs": [],
   "source": [
    "for col in numeric_cols:\n",
    "    df[col] = pd.to_numeric(df[col], errors='coerce')"
   ]
  },
  {
   "cell_type": "code",
   "execution_count": 5,
   "id": "86f3316e-7f10-43f1-98d4-5aee85a2c4a3",
   "metadata": {},
   "outputs": [],
   "source": [
    "df = df.drop(columns=['battery_impedance', 'rectified_impedance'], errors='ignore')"
   ]
  },
  {
   "cell_type": "code",
   "execution_count": 6,
   "id": "b48b8466-bc62-4b39-acfb-30a45298315c",
   "metadata": {},
   "outputs": [],
   "source": [
    "df['delta_t'] = df.groupby(\"file_id\")['time'].diff().fillna(0)"
   ]
  },
  {
   "cell_type": "code",
   "execution_count": 7,
   "id": "c552f715-9d3c-4c2a-8a10-787f0226f7b5",
   "metadata": {},
   "outputs": [],
   "source": [
    "df['discharge_capacity'] = (df['current_measured'] * df['delta_t']) / 3600"
   ]
  },
  {
   "cell_type": "code",
   "execution_count": 8,
   "id": "3f124990-b3ed-4de3-a096-e530a15c9d82",
   "metadata": {},
   "outputs": [],
   "source": [
    "df['charge_capacity'] = (df['current_charge'] * df['delta_t']) / 3600\n"
   ]
  },
  {
   "cell_type": "code",
   "execution_count": 8,
   "id": "e4cda67c-cfac-4f51-91f8-84066a029a2e",
   "metadata": {},
   "outputs": [],
   "source": [
    "agg_features.columns = ['_'.join(col).strip('_') for col in agg_features.columns.values]"
   ]
  },
  {
   "cell_type": "code",
   "execution_count": 9,
   "id": "ae7fc181-6db6-4783-b143-2ea8a5d8f2ad",
   "metadata": {},
   "outputs": [],
   "source": [
    "capacity_features = df.groupby(\"file_id\").agg({\n",
    "    'discharge_capacity': 'sum',\n",
    "    'charge_capacity': 'sum'\n",
    "}).reset_index()"
   ]
  },
  {
   "cell_type": "code",
   "execution_count": 10,
   "id": "e4528f0f-69de-4c2b-9c67-3f54f49f155c",
   "metadata": {},
   "outputs": [],
   "source": [
    "capacity_features.rename(columns={\n",
    "    'discharge_capacity': 'cycle_discharge_capacity_Ah',\n",
    "    'charge_capacity': 'cycle_charge_capacity_Ah'\n",
    "}, inplace=True)"
   ]
  },
  {
   "cell_type": "code",
   "execution_count": 11,
   "id": "3cffecf1-0521-4b3b-853c-eeca6827adc9",
   "metadata": {},
   "outputs": [],
   "source": [
    "agg_features = df.groupby(\"file_id\").agg({\n",
    "    'voltage_measured': ['mean', 'std', 'min', 'max'],\n",
    "    'current_measured': ['mean', 'std', 'min', 'max'],\n",
    "    'temperature_measured': ['mean', 'std', 'min', 'max'],\n",
    "    'voltage_charge': ['mean', 'max'],\n",
    "    'current_charge': ['mean', 'max'],\n",
    "    'time': ['max']  # total duration of cycle\n",
    "}).reset_index()"
   ]
  },
  {
   "cell_type": "code",
   "execution_count": 12,
   "id": "786eb16c-9a43-4861-ba47-179ad36452c9",
   "metadata": {},
   "outputs": [],
   "source": [
    "agg_features.columns = ['file_id'] + [\n",
    "    f\"{col}_{stat}\" for col, stat in agg_features.columns.tolist()[1:]\n",
    "]\n"
   ]
  },
  {
   "cell_type": "code",
   "execution_count": 13,
   "id": "2d75f389-82d5-45e7-b843-fd2cad6ade92",
   "metadata": {},
   "outputs": [],
   "source": [
    "final_features = pd.merge(agg_features, capacity_features, on=\"file_id\", how=\"left\")\n",
    "final_features['cycle_efficiency'] = (\n",
    "    final_features['cycle_discharge_capacity_Ah'] / final_features['cycle_charge_capacity_Ah']\n",
    ")"
   ]
  },
  {
   "cell_type": "code",
   "execution_count": 14,
   "id": "ccfb73b7-974e-439e-b6c3-4a530409acd0",
   "metadata": {},
   "outputs": [],
   "source": [
    "final_features.to_csv(\"phase2_features.csv\", index=False)"
   ]
  },
  {
   "cell_type": "code",
   "execution_count": 15,
   "id": "caa84894-216b-462b-b65a-0dea1bc108af",
   "metadata": {},
   "outputs": [
    {
     "name": "stdout",
     "output_type": "stream",
     "text": [
      "✅ Phase 2 feature engineering complete. Shape: (7565, 21)\n",
      "   file_id  voltage_measured_mean  voltage_measured_std  voltage_measured_min  \\\n",
      "0        1               3.475266              0.284626              2.470612   \n",
      "1        2               3.407773              0.044809              3.332557   \n",
      "2        3               4.193521              0.054022              3.486189   \n",
      "3        4               4.200429              0.007882              4.187199   \n",
      "4        5               3.476559              0.272495              2.477662   \n",
      "\n",
      "   voltage_measured_max  current_measured_mean  current_measured_std  \\\n",
      "0              4.246764              -0.952767              0.201448   \n",
      "1              3.482989               0.000045              0.000784   \n",
      "2              4.214595               0.520792              0.525708   \n",
      "3              4.213659               0.024929              0.015197   \n",
      "4              4.186636              -0.983889              0.106708   \n",
      "\n",
      "   current_measured_min  current_measured_max  temperature_measured_mean  ...  \\\n",
      "0             -1.001101              0.000252                   8.272423  ...   \n",
      "1             -0.001270              0.001361                   7.373262  ...   \n",
      "2              0.001417              1.494314                   6.279191  ...   \n",
      "3             -0.000580              0.050438                   5.578508  ...   \n",
      "4             -0.998142             -0.001536                   8.210715  ...   \n",
      "\n",
      "   temperature_measured_min  temperature_measured_max  voltage_charge_mean  \\\n",
      "0                  5.008084                 12.376816                  NaN   \n",
      "1                  6.046596                  8.699927                  NaN   \n",
      "2                  4.358202                  8.793624             4.508324   \n",
      "3                  5.460000                  5.697017             4.044601   \n",
      "4                  5.454957                 11.314903             1.918559   \n",
      "\n",
      "   voltage_charge_max  current_charge_mean  current_charge_max      time_max  \\\n",
      "0                 NaN                  NaN                 NaN   6436.141000   \n",
      "1                 NaN                  NaN                 NaN   6304.791184   \n",
      "2            5.011000             0.523551            1.499500  10803.313000   \n",
      "3            4.254086             0.050632            0.053287  10582.837224   \n",
      "4            3.826203             0.023689            0.047864   5650.265000   \n",
      "\n",
      "   cycle_discharge_capacity_Ah  cycle_charge_capacity_Ah  cycle_efficiency  \n",
      "0                    -1.705987                  0.000000              -inf  \n",
      "1                    -0.000126                  0.000000              -inf  \n",
      "2                     1.540807                  1.548970          0.994730  \n",
      "3                    -0.070194                 -0.145579          0.482169  \n",
      "4                    -1.548591                  0.036967        -41.891707  \n",
      "\n",
      "[5 rows x 21 columns]\n"
     ]
    }
   ],
   "source": [
    "print(\"✅ Phase 2 feature engineering complete. Shape:\", final_features.shape)\n",
    "print(final_features.head())"
   ]
  },
  {
   "cell_type": "code",
   "execution_count": null,
   "id": "ffff2180-43bc-44a5-9dda-85dad3db3dd0",
   "metadata": {},
   "outputs": [],
   "source": []
  }
 ],
 "metadata": {
  "kernelspec": {
   "display_name": "Python (torch_env)",
   "language": "python",
   "name": "torch_env"
  },
  "language_info": {
   "codemirror_mode": {
    "name": "ipython",
    "version": 3
   },
   "file_extension": ".py",
   "mimetype": "text/x-python",
   "name": "python",
   "nbconvert_exporter": "python",
   "pygments_lexer": "ipython3",
   "version": "3.11.13"
  }
 },
 "nbformat": 4,
 "nbformat_minor": 5
}
